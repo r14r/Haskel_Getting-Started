{
 "cells": [
  {
   "cell_type": "markdown",
   "id": "9b1a6dce",
   "metadata": {},
   "source": [
    "# Numeric Types"
   ]
  },
  {
   "cell_type": "markdown",
   "id": "b613bd32",
   "metadata": {},
   "source": [
    "Numeric types hold numerical values of different ranges and digit numbers, such as 15 or 1.17. Haskell has 3 common numeric types:\n",
    "\n",
    "Int for 64 bit (>20 digit)integers\n",
    "\n",
    "Integer list of Int types that can represent any number (similar to BigInt in other languages)\n",
    "\n",
    "Double for 64-bit decimal numbers Each numeric type works with standard operators like +, -, and *. Only Double supports division operations and all Integer divisions will return as a Double.\n",
    "\n",
    "For example:"
   ]
  },
  {
   "cell_type": "code",
   "execution_count": 3,
   "id": "9ddad009",
   "metadata": {},
   "outputs": [
    {
     "data": {
      "text/plain": [
       "1.5"
      ]
     },
     "metadata": {},
     "output_type": "display_data"
    }
   ],
   "source": [
    "3 / 2"
   ]
  },
  {
   "cell_type": "markdown",
   "id": "aa80585b",
   "metadata": {},
   "source": [
    "Here are some examples of more operations with numeric types."
   ]
  },
  {
   "cell_type": "code",
   "execution_count": 4,
   "id": "5f643251",
   "metadata": {},
   "outputs": [
    {
     "data": {
      "text/plain": [
       "3"
      ]
     },
     "metadata": {},
     "output_type": "display_data"
    },
    {
     "data": {
      "text/plain": [
       "30"
      ]
     },
     "metadata": {},
     "output_type": "display_data"
    }
   ],
   "source": [
    "1 + 2\n",
    "5 * (7 - 1)"
   ]
  },
  {
   "cell_type": "markdown",
   "id": "e7f1174f",
   "metadata": {},
   "source": [
    "Haskell uses type inference to assign the most logical data type for a given operation. As a result, we don’t have to declare types if it is “obvious” such as Int vs. Double values.\n",
    "\n",
    "To explicitly declare the data types, you can add designations after each value like so:"
   ]
  },
  {
   "cell_type": "code",
   "execution_count": 5,
   "id": "c47f4c77",
   "metadata": {},
   "outputs": [
    {
     "data": {
      "text/plain": [
       "3"
      ]
     },
     "metadata": {},
     "output_type": "display_data"
    }
   ],
   "source": [
    "(1 :: Int) + (2 :: Int)"
   ]
  },
  {
   "cell_type": "markdown",
   "id": "0c2139f5",
   "metadata": {},
   "source": [
    "Haskell also includes predefined functions for common numerical operations like exponents, integer division, and type conversion.\n",
    "\n",
    "### Power (^)\n",
    "Raises the first number to the power of the second number. This executes several hidden multiplication operations and returns the final result.\n",
    "Integer Division (div): Used to complete division on integers without changing to a double. All decimals are truncated. There is also the modulus operator (mod) that lets you find the remainder."
   ]
  },
  {
   "cell_type": "code",
   "execution_count": 6,
   "id": "7fceef7f",
   "metadata": {},
   "outputs": [
    {
     "data": {
      "text/plain": [
       "2"
      ]
     },
     "metadata": {},
     "output_type": "display_data"
    },
    {
     "data": {
      "text/plain": [
       "1"
      ]
     },
     "metadata": {},
     "output_type": "display_data"
    }
   ],
   "source": [
    "div 7 3 \n",
    "mod 7 3"
   ]
  },
  {
   "cell_type": "markdown",
   "id": "967909f3",
   "metadata": {},
   "source": [
    "### Type conversion"
   ]
  },
  {
   "cell_type": "markdown",
   "id": "d072dfdc",
   "metadata": {},
   "source": [
    "Haskell doesn’t support cross-type operations, meaning we often have to convert values. Prelude includes type conversions from different common types, such as fromIntegral or fromDouble."
   ]
  },
  {
   "cell_type": "code",
   "execution_count": 37,
   "id": "61f28f2d",
   "metadata": {},
   "outputs": [
    {
     "data": {
      "text/plain": [
       "2"
      ]
     },
     "metadata": {},
     "output_type": "display_data"
    }
   ],
   "source": [
    "div 7 3"
   ]
  },
  {
   "cell_type": "code",
   "execution_count": 7,
   "id": "517151a8",
   "metadata": {},
   "outputs": [
    {
     "data": {
      "text/plain": [
       "7.2"
      ]
     },
     "metadata": {},
     "output_type": "display_data"
    }
   ],
   "source": [
    "5.2 + fromIntegral (div 7 3)"
   ]
  },
  {
   "cell_type": "markdown",
   "id": "e7155613",
   "metadata": {},
   "source": [
    "# Strings"
   ]
  },
  {
   "cell_type": "markdown",
   "id": "064cd2cc",
   "metadata": {},
   "source": [
    "String types represent a sequence of characters that can form a word or short phrase. They’re written in double quotes to distinguish them from other data types, like “string string”.\n",
    "\n",
    "Some essential string functions are:"
   ]
  },
  {
   "cell_type": "markdown",
   "id": "1a155d2e",
   "metadata": {},
   "source": [
    "Concatenation: Join two strings using the ++ operator"
   ]
  },
  {
   "cell_type": "code",
   "execution_count": 8,
   "id": "5b8be936",
   "metadata": {},
   "outputs": [
    {
     "data": {
      "text/plain": [
       "\"hello, world\""
      ]
     },
     "metadata": {},
     "output_type": "display_data"
    },
    {
     "data": {
      "text/plain": [
       "\"hello, world\""
      ]
     },
     "metadata": {},
     "output_type": "display_data"
    }
   ],
   "source": [
    "\"hello, \" ++ \"world\"\n",
    "\"hello, world\""
   ]
  },
  {
   "cell_type": "markdown",
   "id": "1499c024",
   "metadata": {},
   "source": [
    "Reverse: Reverses the order of characters in a String such that the first character becomes the last"
   ]
  },
  {
   "cell_type": "code",
   "execution_count": 9,
   "id": "8fabd21b",
   "metadata": {},
   "outputs": [
    {
     "data": {
      "text/plain": [
       "\"olleh\""
      ]
     },
     "metadata": {},
     "output_type": "display_data"
    },
    {
     "data": {
      "text/plain": [
       "\"radar\""
      ]
     },
     "metadata": {},
     "output_type": "display_data"
    }
   ],
   "source": [
    "reverse \"hello\"\n",
    "reverse \"radar\""
   ]
  },
  {
   "cell_type": "markdown",
   "id": "ec5f1938",
   "metadata": {},
   "source": [
    "# Tuples"
   ]
  },
  {
   "cell_type": "markdown",
   "id": "ef83d3c1",
   "metadata": {},
   "source": [
    "Tuble types is a data type that contains two linked values of preset value. For example, (5, True) is a tuple containing the integer 5 and the boolean True. It has the tuple type (Int, Bool), representing values that contain first an Int value and second a Bool value."
   ]
  },
  {
   "cell_type": "code",
   "execution_count": 43,
   "id": "772051d0",
   "metadata": {},
   "outputs": [],
   "source": [
    "twoNumbers :: (Double, Double)\n",
    "twoNumbers = (3.14, 2.59)"
   ]
  },
  {
   "cell_type": "code",
   "execution_count": 44,
   "id": "f5a1b24a",
   "metadata": {},
   "outputs": [],
   "source": [
    "address :: (String, Int, String, Int)\n",
    "address = (\"New York\", 10005, \"Wall St.\", 1)"
   ]
  },
  {
   "cell_type": "code",
   "execution_count": 45,
   "id": "c95a60d4",
   "metadata": {},
   "outputs": [],
   "source": [
    "main = do \n",
    "  print twoNumbers \n",
    "  print address"
   ]
  },
  {
   "cell_type": "code",
   "execution_count": 46,
   "id": "20abd427",
   "metadata": {},
   "outputs": [
    {
     "data": {
      "text/plain": [
       "(3.14,2.59)\n",
       "(\"New York\",10005,\"Wall St.\",1)"
      ]
     },
     "metadata": {},
     "output_type": "display_data"
    }
   ],
   "source": [
    "main"
   ]
  },
  {
   "cell_type": "code",
   "execution_count": 47,
   "id": "b03aebe8",
   "metadata": {},
   "outputs": [
    {
     "ename": "",
     "evalue": "",
     "output_type": "error",
     "traceback": [
      "Parse error (line 1, column 78): lexical error at character 'r'"
     ]
    }
   ],
   "source": [
    "Tuple construction is essentially a function that links two values such that they’re treated as one."
   ]
  },
  {
   "cell_type": "markdown",
   "id": "c2255e0a",
   "metadata": {},
   "source": [
    "# Custom functions"
   ]
  },
  {
   "cell_type": "markdown",
   "id": "e7dad714",
   "metadata": {},
   "source": [
    "To create your own functions, using the following definition:\n",
    "\n",
    "function_name :: argument_type -> return_type\n",
    "The function name is what you use to call the function, the argument type defines the allowed data type for input parameters, and return type defines the data type the return value will appear in.\n",
    "\n",
    "After the definition, you enter an equation that defines the behavior of the function:\n",
    "\n",
    "function_name pattern = expression\n",
    "The function name echoes the name of the greater function, pattern acts as a placeholder that will be replaced by the input parameter, and expression outlines how that pattern is used.\n",
    "\n",
    "Here’s an example of both definition and equation for a function that will print a passed String twice."
   ]
  },
  {
   "cell_type": "code",
   "execution_count": 48,
   "id": "19dc0444",
   "metadata": {},
   "outputs": [],
   "source": [
    "sayTwice :: String -> String\n",
    "sayTwice s = s ++ s"
   ]
  },
  {
   "cell_type": "code",
   "execution_count": 49,
   "id": "30695c85",
   "metadata": {},
   "outputs": [],
   "source": [
    "main = print (sayTwice \"hello\")"
   ]
  },
  {
   "cell_type": "code",
   "execution_count": 50,
   "id": "ba91b0f0",
   "metadata": {},
   "outputs": [
    {
     "data": {
      "text/plain": [
       "\"hellohello\""
      ]
     },
     "metadata": {},
     "output_type": "display_data"
    }
   ],
   "source": [
    "main"
   ]
  },
  {
   "cell_type": "markdown",
   "id": "a5666cba",
   "metadata": {},
   "source": [
    "# Lists"
   ]
  },
  {
   "cell_type": "markdown",
   "id": "9ed30dff",
   "metadata": {},
   "source": [
    "Lists are a recursively defined sequence of elements. Like Linked Lists, each element points to the next element until the final element, which points to a special nill value to mark the end of the list.\n",
    "\n",
    "All elements in a list must be the same data type defined using square brackets like [Int] or [String]. You then populate the list with a comma-separated series of values of that type. Once populated, all values are immutable in their current order."
   ]
  },
  {
   "cell_type": "code",
   "execution_count": 14,
   "id": "b1f6c678",
   "metadata": {},
   "outputs": [],
   "source": [
    "ints :: [Int]\n",
    "ints = [1, 2, 3]"
   ]
  },
  {
   "cell_type": "code",
   "execution_count": 15,
   "id": "21e7cd20",
   "metadata": {},
   "outputs": [
    {
     "data": {
      "text/plain": [
       "[1,2,3]"
      ]
     },
     "metadata": {},
     "output_type": "display_data"
    }
   ],
   "source": [
    "ints"
   ]
  },
  {
   "cell_type": "markdown",
   "id": "e0a6c9df",
   "metadata": {},
   "source": [
    "Lists are useful to store data that you’ll later need to loop through because they’re easily usable with recursion."
   ]
  },
  {
   "cell_type": "markdown",
   "id": "983905d1",
   "metadata": {},
   "source": [
    "# Custom Data Types and Type Classes"
   ]
  },
  {
   "cell_type": "markdown",
   "id": "e2f6babe",
   "metadata": {},
   "source": [
    "Haskell also allows you to create your own data types similar to how we create functions. Each data type has a name and a set of expectations for what values are acceptable for that type.\n",
    "\n",
    "To better understand this, take a look at the standard library’s Bool type definition:"
   ]
  },
  {
   "cell_type": "code",
   "execution_count": 53,
   "id": "480c5c21",
   "metadata": {},
   "outputs": [],
   "source": [
    "data Bool = False | True"
   ]
  },
  {
   "cell_type": "markdown",
   "id": "16f40e4c",
   "metadata": {},
   "source": [
    "Custom data types are marked with the data keyword and are named Bool by the following item. The = marks the boundary between name and accepted values. Then False | True defines that any value of type Bool must be either true or false.\n",
    "\n",
    "Similarly, we can define a custom Geometry data type that accepts 3 forms of shapes, each with different input requirements."
   ]
  },
  {
   "cell_type": "code",
   "execution_count": 60,
   "id": "7e1e38d0",
   "metadata": {},
   "outputs": [],
   "source": [
    "data Geometry = Rectangle Double Double | Square Double | Circle Double "
   ]
  },
  {
   "cell_type": "markdown",
   "id": "74e764b8",
   "metadata": {},
   "source": [
    "Our Geometry data type allows for the creation of three different shapes: rectangles, squares, and circles.\n",
    "\n",
    "These shapes are data constructors that define the acceptable values for an element of type Geometry. A Rectangle is described by two doubles (its width and height), a Square is described by one double (the length of one side), and a Circle is described by a single double (its radius).\n",
    "\n",
    "When creating a Geometry value, you must declare which constructor, Rectangle, Square and `Circle, you wish to use for your input.` "
   ]
  },
  {
   "cell_type": "code",
   "execution_count": 63,
   "id": "bf899a09",
   "metadata": {},
   "outputs": [],
   "source": [
    "s1 = Rectangle 3 5 :: Geometry"
   ]
  },
  {
   "cell_type": "code",
   "execution_count": 64,
   "id": "65bf564e",
   "metadata": {},
   "outputs": [
    {
     "ename": "",
     "evalue": "",
     "output_type": "error",
     "traceback": [
      "<interactive>:1:1: error:\n    • No instance for (IHaskellPrelude.Show Geometry) arising from a use of ‘print’\n    • In a stmt of an interactive GHCi command: print it"
     ]
    }
   ],
   "source": [
    "s1"
   ]
  },
  {
   "cell_type": "code",
   "execution_count": 65,
   "id": "13b284a2",
   "metadata": {},
   "outputs": [],
   "source": [
    "s2 = Square 4 :: Geometry"
   ]
  },
  {
   "cell_type": "code",
   "execution_count": 66,
   "id": "abf315e8",
   "metadata": {},
   "outputs": [
    {
     "ename": "",
     "evalue": "",
     "output_type": "error",
     "traceback": [
      "<interactive>:1:1: error:\n    • No instance for (IHaskellPrelude.Show Geometry) arising from a use of ‘print’\n    • In a stmt of an interactive GHCi command: print it"
     ]
    }
   ],
   "source": [
    "s2"
   ]
  },
  {
   "cell_type": "code",
   "execution_count": 67,
   "id": "0cdd1752",
   "metadata": {},
   "outputs": [],
   "source": [
    "s3 = Circle 7 :: Geometry"
   ]
  },
  {
   "cell_type": "code",
   "execution_count": 68,
   "id": "1b593bfc",
   "metadata": {},
   "outputs": [
    {
     "ename": "",
     "evalue": "",
     "output_type": "error",
     "traceback": [
      "<interactive>:1:1: error:\n    • No instance for (IHaskellPrelude.Show Geometry) arising from a use of ‘print’\n    • In a stmt of an interactive GHCi command: print it"
     ]
    }
   ],
   "source": [
    "s3"
   ]
  },
  {
   "cell_type": "markdown",
   "id": "7bca030a",
   "metadata": {},
   "source": [
    "# Type Classes"
   ]
  },
  {
   "cell_type": "markdown",
   "id": "299799b0",
   "metadata": {},
   "source": [
    "A type class is a collection of types that share a common property. For example, the type class Show is the class of all types that can be transformed into a string using the show function (note the difference in capitalization). Its syntax is:"
   ]
  },
  {
   "cell_type": "code",
   "execution_count": 19,
   "id": "fe9233e6",
   "metadata": {},
   "outputs": [],
   "source": [
    "class Show a where\n",
    "  show :: a -> String"
   ]
  },
  {
   "cell_type": "markdown",
   "id": "e0f8a6ac",
   "metadata": {},
   "source": [
    "All type class declarations start with the class keyword, a name (Show) and a type variable (a). The where keyword sets a conditional that calls for all types where the following statement equates as True. In this case, Show looks for all types with a show function that takes a variable and returns a String.\n",
    "\n",
    "In other words, every type a that belongs to the Show type class must support the show function. Type classes behave similarly to interfaces of object-oriented programming languages as they define a blueprint for a group of data."
   ]
  },
  {
   "cell_type": "markdown",
   "id": "44ba6d07",
   "metadata": {},
   "source": [
    "# Higher-order Functions"
   ]
  },
  {
   "cell_type": "markdown",
   "id": "d280a310",
   "metadata": {},
   "source": [
    "As with other functional programming languages, Haskell treats functions as first-class citizens that can be passed or returned from other functions. Functions that act on or return new functions are called higher-order functions.\n",
    "\n",
    "You can use higher-order functions to combine your modular functions to complete complex operations. This is an essential part of function composition, where the output of one function serves as the input for the next function.\n",
    "\n",
    "The function applyTwice takes a function of integers as its first argument and applies it twice to its second argument."
   ]
  },
  {
   "cell_type": "code",
   "execution_count": 21,
   "id": "26443406",
   "metadata": {},
   "outputs": [],
   "source": [
    "applyTwice :: (Int -> Int) -> Int -> Int\n",
    "applyTwice f x = f (f x)"
   ]
  },
  {
   "cell_type": "markdown",
   "id": "78dd8e2e",
   "metadata": {},
   "source": [
    "The parentheses clarify that the first Int set should be read together to mean an Int function rather than two independent Int values.\n",
    "\n",
    "Now we’ll create some sample functions double and next to pass to our higher-order function applyTwice."
   ]
  },
  {
   "cell_type": "code",
   "execution_count": 24,
   "id": "3da5e5a9",
   "metadata": {},
   "outputs": [],
   "source": [
    "applyTwice :: (Int -> Int) -> Int -> Int\n",
    "applyTwice f x = f (f x)"
   ]
  },
  {
   "cell_type": "code",
   "execution_count": 25,
   "id": "c6a6cbcb",
   "metadata": {},
   "outputs": [],
   "source": [
    "double :: Int -> Int\n",
    "double x = 2 * x"
   ]
  },
  {
   "cell_type": "code",
   "execution_count": 26,
   "id": "aceea3df",
   "metadata": {},
   "outputs": [],
   "source": [
    "next :: Int -> Int \n",
    "next x = x + 1"
   ]
  },
  {
   "cell_type": "code",
   "execution_count": 27,
   "id": "e38abece",
   "metadata": {},
   "outputs": [],
   "source": [
    "main = do \n",
    "  print (applyTwice double 2) -- quadruples\n",
    "  print (applyTwice next 1) --adds 2"
   ]
  },
  {
   "cell_type": "code",
   "execution_count": 28,
   "id": "61543a8b",
   "metadata": {},
   "outputs": [
    {
     "data": {
      "text/plain": [
       "8\n",
       "3"
      ]
     },
     "metadata": {},
     "output_type": "display_data"
    }
   ],
   "source": [
    "main"
   ]
  },
  {
   "cell_type": "markdown",
   "id": "5e919e9c",
   "metadata": {},
   "source": [
    "# Lambda expression"
   ]
  },
  {
   "cell_type": "markdown",
   "id": "3f01e9d1",
   "metadata": {},
   "source": [
    "Our implementation of applyTwice above is effective if we want to use double and next more than once. But what if this is the only time we’ll need this behavior? We don’t want to create an entire function for one use.\n",
    "\n",
    "Instead, we can use Haskell’s lambda expression to create an anonymous function. These are essentially one-use functions with expressions defined where they’re used but without a name to save it. Lambda expressions otherwise work as functions with input parameters and return values.\n",
    "\n",
    "For example, we can convert our next function into a lambda expression:"
   ]
  },
  {
   "cell_type": "code",
   "execution_count": 29,
   "id": "80681dfa",
   "metadata": {},
   "outputs": [
    {
     "data": {
      "text/html": [
       "<style>/* Styles used for the Hoogle display in the pager */\n",
       ".hoogle-doc {\n",
       "display: block;\n",
       "padding-bottom: 1.3em;\n",
       "padding-left: 0.4em;\n",
       "}\n",
       ".hoogle-code {\n",
       "display: block;\n",
       "font-family: monospace;\n",
       "white-space: pre;\n",
       "}\n",
       ".hoogle-text {\n",
       "display: block;\n",
       "}\n",
       ".hoogle-name {\n",
       "color: green;\n",
       "font-weight: bold;\n",
       "}\n",
       ".hoogle-head {\n",
       "font-weight: bold;\n",
       "}\n",
       ".hoogle-sub {\n",
       "display: block;\n",
       "margin-left: 0.4em;\n",
       "}\n",
       ".hoogle-package {\n",
       "font-weight: bold;\n",
       "font-style: italic;\n",
       "}\n",
       ".hoogle-module {\n",
       "font-weight: bold;\n",
       "}\n",
       ".hoogle-class {\n",
       "font-weight: bold;\n",
       "}\n",
       ".get-type {\n",
       "color: green;\n",
       "font-weight: bold;\n",
       "font-family: monospace;\n",
       "display: block;\n",
       "white-space: pre-wrap;\n",
       "}\n",
       ".show-type {\n",
       "color: green;\n",
       "font-weight: bold;\n",
       "font-family: monospace;\n",
       "margin-left: 1em;\n",
       "}\n",
       ".mono {\n",
       "font-family: monospace;\n",
       "display: block;\n",
       "}\n",
       ".err-msg {\n",
       "color: red;\n",
       "font-style: italic;\n",
       "font-family: monospace;\n",
       "white-space: pre;\n",
       "display: block;\n",
       "}\n",
       "#unshowable {\n",
       "color: red;\n",
       "font-weight: bold;\n",
       "}\n",
       ".err-msg.in.collapse {\n",
       "padding-top: 0.7em;\n",
       "}\n",
       ".highlight-code {\n",
       "white-space: pre;\n",
       "font-family: monospace;\n",
       "}\n",
       ".suggestion-warning { \n",
       "font-weight: bold;\n",
       "color: rgb(200, 130, 0);\n",
       "}\n",
       ".suggestion-error { \n",
       "font-weight: bold;\n",
       "color: red;\n",
       "}\n",
       ".suggestion-name {\n",
       "font-weight: bold;\n",
       "}\n",
       "</style><div class=\"suggestion-name\" style=\"clear:both;\">Avoid lambda using `infix`</div><div class=\"suggestion-row\" style=\"float: left;\"><div class=\"suggestion-warning\">Found:</div><div class=\"highlight-code\" id=\"haskell\">\\ x -> x + 1</div></div><div class=\"suggestion-row\" style=\"float: left;\"><div class=\"suggestion-warning\">Why Not:</div><div class=\"highlight-code\" id=\"haskell\">(+ 1)</div></div>"
      ],
      "text/plain": [
       "Line 1: Avoid lambda using `infix`\n",
       "Found:\n",
       "\\ x -> x + 1\n",
       "Why not:\n",
       "(+ 1)"
      ]
     },
     "metadata": {},
     "output_type": "display_data"
    },
    {
     "ename": "",
     "evalue": "",
     "output_type": "error",
     "traceback": [
      "<interactive>:1:1: error:\n    • No instance for (IHaskellPrelude.Show (Integer -> Integer)) arising from a use of ‘print’\n        (maybe you haven't applied a function to enough arguments?)\n    • In a stmt of an interactive GHCi command: print it"
     ]
    }
   ],
   "source": [
    "\\x -> x + 1"
   ]
  },
  {
   "cell_type": "markdown",
   "id": "36434416",
   "metadata": {},
   "source": [
    "Lambda expressions always begin with a backslash (\\) and then list a placeholder for whatever is input to the function, x. Then there is an arrow function to mark the beginning of the expression. The expression uses the input parameter wherever x is called.\n",
    "\n",
    "Here, our lambda expression essentially says “add 1 to whatever input I’m passed, then return the new value”.\n",
    "\n",
    "You can also use lambda expressions as input for higher-order functions. Here is how our applyTwice function works with lambda expressions instead of functions:"
   ]
  },
  {
   "cell_type": "code",
   "execution_count": null,
   "id": "4eb732e7",
   "metadata": {},
   "outputs": [],
   "source": [
    "applyTwice :: (Int -> Int) -> Int -> Int\n",
    "applyTwice f = f . f"
   ]
  },
  {
   "cell_type": "code",
   "execution_count": 30,
   "id": "e84a9471",
   "metadata": {},
   "outputs": [
    {
     "data": {
      "text/html": [
       "<style>/* Styles used for the Hoogle display in the pager */\n",
       ".hoogle-doc {\n",
       "display: block;\n",
       "padding-bottom: 1.3em;\n",
       "padding-left: 0.4em;\n",
       "}\n",
       ".hoogle-code {\n",
       "display: block;\n",
       "font-family: monospace;\n",
       "white-space: pre;\n",
       "}\n",
       ".hoogle-text {\n",
       "display: block;\n",
       "}\n",
       ".hoogle-name {\n",
       "color: green;\n",
       "font-weight: bold;\n",
       "}\n",
       ".hoogle-head {\n",
       "font-weight: bold;\n",
       "}\n",
       ".hoogle-sub {\n",
       "display: block;\n",
       "margin-left: 0.4em;\n",
       "}\n",
       ".hoogle-package {\n",
       "font-weight: bold;\n",
       "font-style: italic;\n",
       "}\n",
       ".hoogle-module {\n",
       "font-weight: bold;\n",
       "}\n",
       ".hoogle-class {\n",
       "font-weight: bold;\n",
       "}\n",
       ".get-type {\n",
       "color: green;\n",
       "font-weight: bold;\n",
       "font-family: monospace;\n",
       "display: block;\n",
       "white-space: pre-wrap;\n",
       "}\n",
       ".show-type {\n",
       "color: green;\n",
       "font-weight: bold;\n",
       "font-family: monospace;\n",
       "margin-left: 1em;\n",
       "}\n",
       ".mono {\n",
       "font-family: monospace;\n",
       "display: block;\n",
       "}\n",
       ".err-msg {\n",
       "color: red;\n",
       "font-style: italic;\n",
       "font-family: monospace;\n",
       "white-space: pre;\n",
       "display: block;\n",
       "}\n",
       "#unshowable {\n",
       "color: red;\n",
       "font-weight: bold;\n",
       "}\n",
       ".err-msg.in.collapse {\n",
       "padding-top: 0.7em;\n",
       "}\n",
       ".highlight-code {\n",
       "white-space: pre;\n",
       "font-family: monospace;\n",
       "}\n",
       ".suggestion-warning { \n",
       "font-weight: bold;\n",
       "color: rgb(200, 130, 0);\n",
       "}\n",
       ".suggestion-error { \n",
       "font-weight: bold;\n",
       "color: red;\n",
       "}\n",
       ".suggestion-name {\n",
       "font-weight: bold;\n",
       "}\n",
       "</style><div class=\"suggestion-name\" style=\"clear:both;\">Avoid lambda using `infix`</div><div class=\"suggestion-row\" style=\"float: left;\"><div class=\"suggestion-warning\">Found:</div><div class=\"highlight-code\" id=\"haskell\">(\\ x -> x * 2)</div></div><div class=\"suggestion-row\" style=\"float: left;\"><div class=\"suggestion-warning\">Why Not:</div><div class=\"highlight-code\" id=\"haskell\">(* 2)</div></div><div class=\"suggestion-name\" style=\"clear:both;\">Avoid lambda using `infix`</div><div class=\"suggestion-row\" style=\"float: left;\"><div class=\"suggestion-warning\">Found:</div><div class=\"highlight-code\" id=\"haskell\">(\\ x -> x + 1)</div></div><div class=\"suggestion-row\" style=\"float: left;\"><div class=\"suggestion-warning\">Why Not:</div><div class=\"highlight-code\" id=\"haskell\">(+ 1)</div></div>"
      ],
      "text/plain": [
       "Line 4: Avoid lambda using `infix`\n",
       "Found:\n",
       "(\\ x -> x * 2)\n",
       "Why not:\n",
       "(* 2)Line 5: Avoid lambda using `infix`\n",
       "Found:\n",
       "(\\ x -> x + 1)\n",
       "Why not:\n",
       "(+ 1)"
      ]
     },
     "metadata": {},
     "output_type": "display_data"
    }
   ],
   "source": [
    "main = do \n",
    "  print (applyTwice (\\x -> x * 2) 8)\n",
    "  print (applyTwice (\\x -> x + 1) 7)"
   ]
  },
  {
   "cell_type": "code",
   "execution_count": 34,
   "id": "8910ee71",
   "metadata": {},
   "outputs": [
    {
     "data": {
      "text/plain": [
       "32\n",
       "9"
      ]
     },
     "metadata": {},
     "output_type": "display_data"
    }
   ],
   "source": [
    "main"
   ]
  },
  {
   "cell_type": "code",
   "execution_count": 35,
   "id": "d1bfca41",
   "metadata": {},
   "outputs": [],
   "source": [
    "main = do \n",
    "  print (applyTwice (* 2) 8)\n",
    "  print (applyTwice (+ 1) 7)"
   ]
  },
  {
   "cell_type": "code",
   "execution_count": 36,
   "id": "ff309259",
   "metadata": {},
   "outputs": [
    {
     "data": {
      "text/plain": [
       "32\n",
       "9"
      ]
     },
     "metadata": {},
     "output_type": "display_data"
    }
   ],
   "source": [
    "main"
   ]
  },
  {
   "cell_type": "code",
   "execution_count": null,
   "id": "8831fc83",
   "metadata": {},
   "outputs": [],
   "source": [
    "Lambda expressions are often used to provide higher-order functions with simple behaviors that you do not want to save to a function or will only need once. You can also use them to outline general logical patterns of your program by supplying them to abstract higher-order functions."
   ]
  },
  {
   "cell_type": "markdown",
   "id": "0471eb0c",
   "metadata": {},
   "source": [
    "# Recursion"
   ]
  },
  {
   "cell_type": "markdown",
   "id": "2a7845e9",
   "metadata": {},
   "source": [
    "Functional languages like Haskell do not have loops or conditional statements like imperative languages. They instead use recursion to create repeated behaviors. This is because recursive structures are declarative, like functional programming, and therefore are a better fit.\n",
    "\n",
    "Reminder: recursive functions are functions that call themselves repeatedly until a designated program state is reached.\n",
    "\n",
    "Here’s an example of a recursive function in Haskell:"
   ]
  },
  {
   "cell_type": "code",
   "execution_count": 17,
   "id": "42c3fcf7",
   "metadata": {},
   "outputs": [],
   "source": [
    "compoundInterest :: Int -> Double\n",
    "compoundInterest 0 = 1000\n",
    "compoundInterest n = 1.05 * compoundInterest (n - 1)\n",
    "main = print (compoundInterest 3)"
   ]
  },
  {
   "cell_type": "code",
   "execution_count": 18,
   "id": "4dbdbba3",
   "metadata": {},
   "outputs": [
    {
     "data": {
      "text/plain": [
       "1157.625"
      ]
     },
     "metadata": {},
     "output_type": "display_data"
    }
   ],
   "source": [
    "main"
   ]
  },
  {
   "cell_type": "code",
   "execution_count": null,
   "id": "45a5b40b",
   "metadata": {},
   "outputs": [],
   "source": [
    "The first equation covers the base case that executes if the input value is 0 and yields the result 1000 immediately. The second equation is the recursive case, which uses the result of the computation for input value n - 1 to compute the result for input value n."
   ]
  }
 ],
 "metadata": {
  "kernelspec": {
   "display_name": "Haskell",
   "language": "haskell",
   "name": "haskell"
  },
  "language_info": {
   "codemirror_mode": "Haskell",
   "file_extension": ".hs",
   "mimetype": "text/x-haskell",
   "name": "haskell",
   "pygments_lexer": "Haskell",
   "version": "8.10.4"
  }
 },
 "nbformat": 4,
 "nbformat_minor": 5
}
